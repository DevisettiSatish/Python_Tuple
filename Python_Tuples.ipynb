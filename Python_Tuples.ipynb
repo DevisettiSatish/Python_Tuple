{
 "cells": [
  {
   "cell_type": "code",
   "execution_count": null,
   "id": "8b1ad480",
   "metadata": {},
   "outputs": [],
   "source": [
    "# Tuple is a immutable data type\n",
    "# it is Represented  with ()_Parenthesis\n",
    "# tuple can accept any update :- int,float,str"
   ]
  },
  {
   "cell_type": "code",
   "execution_count": 1,
   "id": "36ff2f9d",
   "metadata": {},
   "outputs": [
    {
     "name": "stdout",
     "output_type": "stream",
     "text": [
      "(1, 5, 9, 10, 23)\n"
     ]
    }
   ],
   "source": [
    "a=(1,5,9,10,23)  # save in memory\n",
    "print(a)      # calling the Memory"
   ]
  },
  {
   "cell_type": "code",
   "execution_count": 2,
   "id": "e75b5af7",
   "metadata": {},
   "outputs": [
    {
     "name": "stdout",
     "output_type": "stream",
     "text": [
      "<class 'tuple'>\n"
     ]
    }
   ],
   "source": [
    "print(type(a))"
   ]
  },
  {
   "cell_type": "code",
   "execution_count": 3,
   "id": "d5454068",
   "metadata": {},
   "outputs": [
    {
     "name": "stdout",
     "output_type": "stream",
     "text": [
      "(250, 456, 78, 'satish')\n",
      "<class 'tuple'>\n"
     ]
    }
   ],
   "source": [
    "x=(250,456,78,'satish')\n",
    "print(x)\n",
    "print(type(x))"
   ]
  },
  {
   "cell_type": "code",
   "execution_count": 4,
   "id": "63eb21ee",
   "metadata": {},
   "outputs": [
    {
     "name": "stdout",
     "output_type": "stream",
     "text": [
      "('kiran', 'sai', 2500)\n",
      "<class 'tuple'>\n"
     ]
    }
   ],
   "source": [
    "x=('kiran','sai',2500)\n",
    "print(x)\n",
    "print(type(x))"
   ]
  },
  {
   "cell_type": "code",
   "execution_count": null,
   "id": "8e52bfb3",
   "metadata": {},
   "outputs": [],
   "source": [
    "# tuple is immutable datatype"
   ]
  },
  {
   "cell_type": "code",
   "execution_count": 7,
   "id": "458a4537",
   "metadata": {},
   "outputs": [
    {
     "name": "stdout",
     "output_type": "stream",
     "text": [
      "(5, 2, 10, 9, 6, 1)\n"
     ]
    }
   ],
   "source": [
    "num=(1,6,9,10,2,5)\n",
    "print(num[::-1])"
   ]
  },
  {
   "cell_type": "code",
   "execution_count": 8,
   "id": "54cc0e15",
   "metadata": {},
   "outputs": [
    {
     "name": "stdout",
     "output_type": "stream",
     "text": [
      "(45, 'sandeep', 'sai')\n"
     ]
    }
   ],
   "source": [
    "a=('sai','sandeep',45)\n",
    "print(a[::-1])"
   ]
  },
  {
   "cell_type": "code",
   "execution_count": 9,
   "id": "64eedc14",
   "metadata": {},
   "outputs": [],
   "source": [
    "# Build_in_function\n",
    "\n"
   ]
  },
  {
   "cell_type": "code",
   "execution_count": 10,
   "id": "44f6737f",
   "metadata": {},
   "outputs": [
    {
     "name": "stdout",
     "output_type": "stream",
     "text": [
      "2\n"
     ]
    }
   ],
   "source": [
    "# count\n",
    "a=(1,5,10,20,5,8,11,21)\n",
    "print(a.count(5))"
   ]
  },
  {
   "cell_type": "code",
   "execution_count": 11,
   "id": "d9aff9bf",
   "metadata": {},
   "outputs": [
    {
     "name": "stdout",
     "output_type": "stream",
     "text": [
      "3\n"
     ]
    }
   ],
   "source": [
    "x=(10,20,30,40,50,89,20,55,20)\n",
    "print(x.count(20))"
   ]
  },
  {
   "cell_type": "code",
   "execution_count": 12,
   "id": "d1981928",
   "metadata": {},
   "outputs": [
    {
     "name": "stdout",
     "output_type": "stream",
     "text": [
      "1\n"
     ]
    }
   ],
   "source": [
    "# index\n",
    "x=(10,20,30,40,50,89,20,55,20)\n",
    "print(x.index(20))"
   ]
  },
  {
   "cell_type": "code",
   "execution_count": 13,
   "id": "86885a98",
   "metadata": {},
   "outputs": [
    {
     "name": "stdout",
     "output_type": "stream",
     "text": [
      "6\n"
     ]
    }
   ],
   "source": [
    "S=(1,2,3,4,5,6,7,8,9,10)\n",
    "print(S.index(7))"
   ]
  },
  {
   "cell_type": "code",
   "execution_count": 14,
   "id": "6740d669",
   "metadata": {},
   "outputs": [
    {
     "data": {
      "text/plain": [
       "()"
      ]
     },
     "execution_count": 14,
     "metadata": {},
     "output_type": "execute_result"
    }
   ],
   "source": [
    "p=()\n",
    "p"
   ]
  },
  {
   "cell_type": "code",
   "execution_count": 15,
   "id": "a7d37d19",
   "metadata": {},
   "outputs": [
    {
     "name": "stdout",
     "output_type": "stream",
     "text": [
      "<class 'tuple'>\n"
     ]
    }
   ],
   "source": [
    "print(type(p))"
   ]
  },
  {
   "cell_type": "code",
   "execution_count": 16,
   "id": "96ee2a88",
   "metadata": {},
   "outputs": [
    {
     "name": "stdout",
     "output_type": "stream",
     "text": [
      "(10, 'sai', [1, 2, 3], 67, ['python'])\n",
      "<class 'tuple'>\n"
     ]
    }
   ],
   "source": [
    "a=(10,'sai',[1,2,3],67,['python'])\n",
    "print(a)\n",
    "print(type(a))"
   ]
  },
  {
   "cell_type": "code",
   "execution_count": 17,
   "id": "f11ff185",
   "metadata": {},
   "outputs": [
    {
     "name": "stdout",
     "output_type": "stream",
     "text": [
      "(1, 2, ['satish', 'sai'], 256.78, (24, 25, 89))\n",
      "<class 'tuple'>\n"
     ]
    }
   ],
   "source": [
    "x=(1,2,['satish','sai'],256.78,(24,25,89))\n",
    "print(x)\n",
    "print(type(x))"
   ]
  },
  {
   "cell_type": "code",
   "execution_count": 18,
   "id": "00568b87",
   "metadata": {},
   "outputs": [
    {
     "name": "stdout",
     "output_type": "stream",
     "text": [
      "(1, 2, 3)\n"
     ]
    }
   ],
   "source": [
    "mytuple=1,2,3\n",
    "print(mytuple)"
   ]
  },
  {
   "cell_type": "code",
   "execution_count": 19,
   "id": "0cd49c9e",
   "metadata": {},
   "outputs": [
    {
     "name": "stdout",
     "output_type": "stream",
     "text": [
      "(10, 245.67, 'sai')\n"
     ]
    }
   ],
   "source": [
    "str=10,245.67,'sai'\n",
    "print(str)"
   ]
  },
  {
   "cell_type": "code",
   "execution_count": 20,
   "id": "542130d3",
   "metadata": {},
   "outputs": [
    {
     "name": "stdout",
     "output_type": "stream",
     "text": [
      "<class 'tuple'>\n"
     ]
    }
   ],
   "source": [
    "print(type(str))"
   ]
  },
  {
   "cell_type": "code",
   "execution_count": 21,
   "id": "cefe68c5",
   "metadata": {},
   "outputs": [
    {
     "name": "stdout",
     "output_type": "stream",
     "text": [
      "(10,)\n",
      "<class 'tuple'>\n",
      "hello\n",
      "<class 'str'>\n"
     ]
    }
   ],
   "source": [
    "#Creating a Tuple With One Item\n",
    "\n",
    "a=(10,)\n",
    "print(a)\n",
    "print(type(a))\n",
    "\n",
    "b=('hello')\n",
    "print(b)\n",
    "print(type(b))"
   ]
  },
  {
   "cell_type": "code",
   "execution_count": 22,
   "id": "59a55ee6",
   "metadata": {},
   "outputs": [
    {
     "name": "stdout",
     "output_type": "stream",
     "text": [
      "('python',)\n",
      "<class 'tuple'>\n",
      "25\n",
      "<class 'int'>\n"
     ]
    }
   ],
   "source": [
    "mytuple=('python',)\n",
    "print(mytuple)\n",
    "print(type(mytuple))\n",
    "\n",
    "str=(25)\n",
    "print(str)\n",
    "print(type(str))"
   ]
  },
  {
   "cell_type": "code",
   "execution_count": 23,
   "id": "76da311c",
   "metadata": {},
   "outputs": [
    {
     "name": "stdout",
     "output_type": "stream",
     "text": [
      "('python',)\n",
      "<class 'tuple'>\n",
      "255.67\n",
      "<class 'float'>\n"
     ]
    }
   ],
   "source": [
    "mytuple=('python',)\n",
    "print(mytuple)\n",
    "print(type(mytuple))\n",
    "\n",
    "str=(255.67)\n",
    "print(str)\n",
    "print(type(str))"
   ]
  },
  {
   "cell_type": "code",
   "execution_count": 26,
   "id": "c3c1ae0f",
   "metadata": {},
   "outputs": [
    {
     "name": "stdout",
     "output_type": "stream",
     "text": [
      "45\n",
      "55\n"
     ]
    }
   ],
   "source": [
    "# tuple in forward index\n",
    "\n",
    "P=(1,6,9,25,45,67,55,2,4)\n",
    "print(P[4])\n",
    "print(P[6])"
   ]
  },
  {
   "cell_type": "code",
   "execution_count": 27,
   "id": "9303b07a",
   "metadata": {},
   "outputs": [
    {
     "name": "stdout",
     "output_type": "stream",
     "text": [
      "5\n",
      "35\n"
     ]
    }
   ],
   "source": [
    "# tuple in backward index \n",
    "\n",
    "y=(1,24,35,4,5,66,89,100)\n",
    "print(y[-4])\n",
    "print(y[-6])"
   ]
  },
  {
   "cell_type": "code",
   "execution_count": 1,
   "id": "2eed8830",
   "metadata": {},
   "outputs": [
    {
     "name": "stdout",
     "output_type": "stream",
     "text": [
      "(67, 89, 10)\n"
     ]
    }
   ],
   "source": [
    "# slicing\n",
    "int=(1,45,67,89,10,45,3,46,2)\n",
    "print(int[2:5])"
   ]
  },
  {
   "cell_type": "code",
   "execution_count": null,
   "id": "29802945",
   "metadata": {},
   "outputs": [],
   "source": []
  }
 ],
 "metadata": {
  "kernelspec": {
   "display_name": "Python 3 (ipykernel)",
   "language": "python",
   "name": "python3"
  },
  "language_info": {
   "codemirror_mode": {
    "name": "ipython",
    "version": 3
   },
   "file_extension": ".py",
   "mimetype": "text/x-python",
   "name": "python",
   "nbconvert_exporter": "python",
   "pygments_lexer": "ipython3",
   "version": "3.11.5"
  }
 },
 "nbformat": 4,
 "nbformat_minor": 5
}
